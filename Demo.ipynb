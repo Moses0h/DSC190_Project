{
 "cells": [
  {
   "cell_type": "code",
   "execution_count": 1,
   "id": "9abab3c9",
   "metadata": {},
   "outputs": [],
   "source": [
    "import cleaning\n",
    "import nltk\n",
    "import ipywidgets as widgets\n",
    "\n",
    "from nltk.tokenize import word_tokenize\n",
    "from joblib import dump, load\n",
    "from ipywidgets import interact, interactive, fixed, interact_manual\n",
    "from ipywidgets import GridspecLayout\n",
    "from ipywidgets import Button, Layout, jslink, IntText"
   ]
  },
  {
   "cell_type": "code",
   "execution_count": 2,
   "id": "03839740",
   "metadata": {},
   "outputs": [],
   "source": [
    "# load model\n",
    "vectorizer = load('./model/vectorizer.joblib')\n",
    "# svc = load('./model/svc.joblib')\n",
    "lsvc = load('./model/lsvc.joblib')\n",
    "sgd = load('./model/sgd.joblib')\n",
    "bernoulli = load('./model/bernoulli.joblib')\n",
    "logreg = load('./model/logreg.joblib')\n",
    "xgb_model = load('./model/xgb_model.joblib')\n",
    "# bert = load('./Model/bert.joblib')"
   ]
  },
  {
   "cell_type": "code",
   "execution_count": 3,
   "id": "b8c5f8cc",
   "metadata": {},
   "outputs": [],
   "source": [
    "text = widgets.Textarea(\n",
    "    value='',\n",
    "    placeholder='Type something',\n",
    "    description='',\n",
    "    layout=widgets.Layout(height=\"90%\", width=\"auto\"),\n",
    "    disabled=False\n",
    ")\n",
    "\n",
    "button = widgets.Button(\n",
    "    value=False,\n",
    "    description='Classify Text',\n",
    "    disabled=False,\n",
    "    button_style='', # 'success', 'info', 'warning', 'danger' or ''\n",
    "    tooltip='Description'\n",
    ")\n",
    "\n",
    "drop = widgets.Dropdown(\n",
    "    options=['SVC', 'Linear SVC', 'SGD', 'Naive Bayes', 'Logistic Regression', 'XGB', 'BERT'],\n",
    "    value='SVC',\n",
    "    description='Model',\n",
    "    disabled=False,\n",
    ")\n",
    "\n",
    "out = widgets.Output()"
   ]
  },
  {
   "cell_type": "code",
   "execution_count": 4,
   "id": "0e8e6223",
   "metadata": {},
   "outputs": [],
   "source": [
    "def on_button_clicked(b):\n",
    "    try:\n",
    "        tweet = text.value\n",
    "        tweet = cleaning.clean_text(tweet)\n",
    "        tweet = cleaning.join_text(tweet)\n",
    "        tweet = vectorizer.transform(word_tokenize(tweet))\n",
    "        model = drop.value\n",
    "        if model == 'SVC':\n",
    "            print('SVC')\n",
    "            raise ValueError()\n",
    "        elif model == 'Linear SVC':\n",
    "            result = lsvc.predict(tweet)\n",
    "        elif model == 'SGD':\n",
    "            result = sgd.predict(tweet)\n",
    "        elif model == 'Naive Bayes':\n",
    "            result = bernoulli.predict(tweet)\n",
    "        elif model == 'Logistic Regression':\n",
    "            result = logreg.predict(tweet)\n",
    "        elif model == 'XGB':\n",
    "            result = xgb_model.predict(tweet)\n",
    "        elif model == 'BERT':\n",
    "            print('BERT')\n",
    "            raise ValueError()\n",
    "            \n",
    "        with out:\n",
    "            out.clear_output()\n",
    "            rate = sum(result)/len(result) * 100\n",
    "            if rate < 50:\n",
    "                display('Negative rate ' + str(100 - rate) + '%')\n",
    "            elif rate > 50:\n",
    "                display('Positive rate ' + str(rate) + '%')\n",
    "            else:\n",
    "                display('Neutral')\n",
    "    except ValueError:\n",
    "        pass\n",
    "    except:\n",
    "        print('you are not suppose to do this')"
   ]
  },
  {
   "cell_type": "code",
   "execution_count": 5,
   "id": "f5d0a879",
   "metadata": {},
   "outputs": [],
   "source": [
    "grid = GridspecLayout(2, 3, height='300px')\n",
    "grid[1, 0] = drop\n",
    "grid[1, 1] = button\n",
    "grid[:1, :2] = text\n",
    "grid[0, 2:] = out"
   ]
  },
  {
   "cell_type": "code",
   "execution_count": 6,
   "id": "fd1dad08",
   "metadata": {
    "scrolled": false
   },
   "outputs": [
    {
     "data": {
      "application/vnd.jupyter.widget-view+json": {
       "model_id": "53ae510b1acf42f7b7f19ef6f0232597",
       "version_major": 2,
       "version_minor": 0
      },
      "text/plain": [
       "interactive(children=(Output(),), _dom_classes=('widget-interact',))"
      ]
     },
     "metadata": {},
     "output_type": "display_data"
    }
   ],
   "source": [
    "@interact\n",
    "def show_interact():\n",
    "    button.on_click(on_button_clicked) \n",
    "    display(grid)"
   ]
  },
  {
   "cell_type": "code",
   "execution_count": null,
   "id": "9b3a704f",
   "metadata": {},
   "outputs": [],
   "source": []
  }
 ],
 "metadata": {
  "kernelspec": {
   "display_name": "Python 3 (ipykernel)",
   "language": "python",
   "name": "python3"
  },
  "language_info": {
   "codemirror_mode": {
    "name": "ipython",
    "version": 3
   },
   "file_extension": ".py",
   "mimetype": "text/x-python",
   "name": "python",
   "nbconvert_exporter": "python",
   "pygments_lexer": "ipython3",
   "version": "3.9.7"
  }
 },
 "nbformat": 4,
 "nbformat_minor": 5
}
