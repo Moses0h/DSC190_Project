{
 "cells": [
  {
   "cell_type": "code",
   "execution_count": null,
   "metadata": {
    "execution": {
     "iopub.execute_input": "2022-03-13T00:29:05.641352Z",
     "iopub.status.busy": "2022-03-13T00:29:05.64109Z",
     "iopub.status.idle": "2022-03-13T00:29:05.64539Z",
     "shell.execute_reply": "2022-03-13T00:29:05.644707Z",
     "shell.execute_reply.started": "2022-03-13T00:29:05.641323Z"
    }
   },
   "outputs": [],
   "source": [
    "import pandas as pd\n",
    "import re"
   ]
  },
  {
   "cell_type": "code",
   "execution_count": null,
   "metadata": {
    "execution": {
     "iopub.execute_input": "2022-03-13T00:29:06.791343Z",
     "iopub.status.busy": "2022-03-13T00:29:06.790807Z",
     "iopub.status.idle": "2022-03-13T00:29:12.43222Z",
     "shell.execute_reply": "2022-03-13T00:29:12.43149Z",
     "shell.execute_reply.started": "2022-03-13T00:29:06.791307Z"
    }
   },
   "outputs": [],
   "source": [
    "df = pd.read_csv(\"/kaggle/input/sentiment140/training.1600000.processed.noemoticon.csv\", encoding='latin-1', names=['labels',  'id', 'date', 'query',  'username', 'tweet'])"
   ]
  },
  {
   "cell_type": "code",
   "execution_count": null,
   "metadata": {
    "execution": {
     "iopub.execute_input": "2022-03-13T00:57:54.296813Z",
     "iopub.status.busy": "2022-03-13T00:57:54.296504Z",
     "iopub.status.idle": "2022-03-13T00:57:54.490524Z",
     "shell.execute_reply": "2022-03-13T00:57:54.489773Z",
     "shell.execute_reply.started": "2022-03-13T00:57:54.29677Z"
    }
   },
   "outputs": [],
   "source": [
    "sampled_df = df.sample(n=100000, replace=False, random_state=1, ignore_index=True)"
   ]
  },
  {
   "cell_type": "code",
   "execution_count": null,
   "metadata": {
    "execution": {
     "iopub.execute_input": "2022-03-13T00:57:55.848172Z",
     "iopub.status.busy": "2022-03-13T00:57:55.847571Z",
     "iopub.status.idle": "2022-03-13T00:57:56.056745Z",
     "shell.execute_reply": "2022-03-13T00:57:56.056056Z",
     "shell.execute_reply.started": "2022-03-13T00:57:55.848131Z"
    }
   },
   "outputs": [],
   "source": [
    "sampled_df = sampled_df.drop(columns=['id', 'date', 'query', 'username'])\n",
    "sampled_df['labels'] = sampled_df['labels'].map({0:0, 4:1})\n",
    "sampled_df['tweet'] = sampled_df.tweet.apply(lambda x: re.sub('@[^\\s]+','',x))\n",
    "sampled_df.head()"
   ]
  },
  {
   "cell_type": "code",
   "execution_count": null,
   "metadata": {
    "execution": {
     "iopub.execute_input": "2022-03-13T00:57:45.036195Z",
     "iopub.status.busy": "2022-03-13T00:57:45.035784Z",
     "iopub.status.idle": "2022-03-13T00:57:45.04115Z",
     "shell.execute_reply": "2022-03-13T00:57:45.040443Z",
     "shell.execute_reply.started": "2022-03-13T00:57:45.03616Z"
    }
   },
   "outputs": [],
   "source": [
    "import torch\n",
    "from torch.utils.data import DataLoader, Dataset\n",
    "from transformers import AutoModelForSequenceClassification, BertTokenizer\n",
    "from torch.optim import AdamW\n",
    "from transformers import get_scheduler\n",
    "from tqdm.auto import tqdm\n",
    "from datasets import load_metric"
   ]
  },
  {
   "cell_type": "code",
   "execution_count": null,
   "metadata": {
    "execution": {
     "iopub.execute_input": "2022-03-13T00:57:58.618405Z",
     "iopub.status.busy": "2022-03-13T00:57:58.618134Z",
     "iopub.status.idle": "2022-03-13T00:57:58.667494Z",
     "shell.execute_reply": "2022-03-13T00:57:58.666821Z",
     "shell.execute_reply.started": "2022-03-13T00:57:58.618375Z"
    }
   },
   "outputs": [],
   "source": [
    "from sklearn.model_selection import train_test_split\n",
    "train_texts, val_texts, train_labels, val_labels = train_test_split(list(sampled_df.tweet.values), sampled_df.labels.values, test_size=.2)"
   ]
  },
  {
   "cell_type": "code",
   "execution_count": null,
   "metadata": {
    "execution": {
     "iopub.execute_input": "2022-03-13T00:34:08.296463Z",
     "iopub.status.busy": "2022-03-13T00:34:08.295977Z",
     "iopub.status.idle": "2022-03-13T00:34:14.684005Z",
     "shell.execute_reply": "2022-03-13T00:34:14.683327Z",
     "shell.execute_reply.started": "2022-03-13T00:34:08.296426Z"
    }
   },
   "outputs": [],
   "source": [
    "tokenizer = BertTokenizer.from_pretrained('bert-base-cased')"
   ]
  },
  {
   "cell_type": "code",
   "execution_count": null,
   "metadata": {
    "execution": {
     "iopub.execute_input": "2022-03-12T06:54:44.723454Z",
     "iopub.status.busy": "2022-03-12T06:54:44.722744Z",
     "iopub.status.idle": "2022-03-12T06:55:26.105751Z",
     "shell.execute_reply": "2022-03-12T06:55:26.105029Z",
     "shell.execute_reply.started": "2022-03-12T06:54:44.723415Z"
    }
   },
   "outputs": [],
   "source": [
    "train_encodings = tokenizer(train_texts, truncation=True, padding=True)\n",
    "val_encodings = tokenizer(val_texts, truncation=True, padding=True)"
   ]
  },
  {
   "cell_type": "code",
   "execution_count": null,
   "metadata": {
    "execution": {
     "iopub.execute_input": "2022-03-13T00:55:44.337573Z",
     "iopub.status.busy": "2022-03-13T00:55:44.337228Z",
     "iopub.status.idle": "2022-03-13T00:55:44.346877Z",
     "shell.execute_reply": "2022-03-13T00:55:44.346109Z",
     "shell.execute_reply.started": "2022-03-13T00:55:44.337533Z"
    }
   },
   "outputs": [],
   "source": [
    "class SentimentDataset(torch.utils.data.Dataset):\n",
    "    \n",
    "    def __init__(self, encodings, labels):\n",
    "        self.encodings = encodings\n",
    "        self.labels = labels\n",
    "\n",
    "    def __getitem__(self, idx):\n",
    "        item = {key: torch.tensor(val[idx]) for key, val in self.encodings.items()}\n",
    "        item['labels'] = torch.tensor(self.labels[idx])\n",
    "        return item\n",
    "\n",
    "    def __len__(self):\n",
    "        return len(self.labels)"
   ]
  },
  {
   "cell_type": "code",
   "execution_count": null,
   "metadata": {
    "execution": {
     "iopub.execute_input": "2022-03-12T06:55:31.987477Z",
     "iopub.status.busy": "2022-03-12T06:55:31.986892Z",
     "iopub.status.idle": "2022-03-12T06:55:32.06731Z",
     "shell.execute_reply": "2022-03-12T06:55:32.065356Z",
     "shell.execute_reply.started": "2022-03-12T06:55:31.987437Z"
    }
   },
   "outputs": [],
   "source": [
    "train_dataloader = DataLoader(SentimentDataset(train_encodings, train_labels), shuffle=True, batch_size=8)\n",
    "eval_dataloader = DataLoader(SentimentDataset(val_encodings, val_labels), batch_size=8)"
   ]
  },
  {
   "cell_type": "code",
   "execution_count": null,
   "metadata": {
    "execution": {
     "iopub.execute_input": "2022-03-12T06:55:34.02988Z",
     "iopub.status.busy": "2022-03-12T06:55:34.029573Z",
     "iopub.status.idle": "2022-03-12T06:55:34.071169Z",
     "shell.execute_reply": "2022-03-12T06:55:34.069996Z",
     "shell.execute_reply.started": "2022-03-12T06:55:34.029829Z"
    }
   },
   "outputs": [],
   "source": [
    "del model\n",
    "torch.cuda.empty_cache()"
   ]
  },
  {
   "cell_type": "code",
   "execution_count": null,
   "metadata": {
    "execution": {
     "iopub.execute_input": "2022-03-12T06:55:35.971528Z",
     "iopub.status.busy": "2022-03-12T06:55:35.970687Z",
     "iopub.status.idle": "2022-03-12T06:55:38.338448Z",
     "shell.execute_reply": "2022-03-12T06:55:38.337803Z",
     "shell.execute_reply.started": "2022-03-12T06:55:35.971472Z"
    }
   },
   "outputs": [],
   "source": [
    "model = AutoModelForSequenceClassification.from_pretrained(\"bert-base-cased\", num_labels=2)"
   ]
  },
  {
   "cell_type": "code",
   "execution_count": null,
   "metadata": {
    "execution": {
     "iopub.execute_input": "2022-03-12T06:55:47.222308Z",
     "iopub.status.busy": "2022-03-12T06:55:47.221721Z",
     "iopub.status.idle": "2022-03-12T06:55:47.22833Z",
     "shell.execute_reply": "2022-03-12T06:55:47.227639Z",
     "shell.execute_reply.started": "2022-03-12T06:55:47.222263Z"
    }
   },
   "outputs": [],
   "source": [
    "optimizer = AdamW(model.parameters(), lr=5e-5)"
   ]
  },
  {
   "cell_type": "code",
   "execution_count": null,
   "metadata": {
    "collapsed": true,
    "execution": {
     "iopub.execute_input": "2022-03-12T06:55:49.809551Z",
     "iopub.status.busy": "2022-03-12T06:55:49.80907Z",
     "iopub.status.idle": "2022-03-12T06:55:49.933221Z",
     "shell.execute_reply": "2022-03-12T06:55:49.932518Z",
     "shell.execute_reply.started": "2022-03-12T06:55:49.809514Z"
    },
    "jupyter": {
     "outputs_hidden": true
    }
   },
   "outputs": [],
   "source": [
    "num_epochs = 3\n",
    "num_training_steps = num_epochs * len(train_dataloader)\n",
    "lr_scheduler = get_scheduler(\n",
    "    name=\"linear\", optimizer=optimizer, num_warmup_steps=0, num_training_steps=num_training_steps\n",
    ")\n",
    "\n",
    "device = torch.device(\"cuda\") if torch.cuda.is_available() else torch.device(\"cpu\")\n",
    "model.to(device)"
   ]
  },
  {
   "cell_type": "code",
   "execution_count": null,
   "metadata": {
    "execution": {
     "iopub.execute_input": "2022-03-12T06:55:56.445628Z",
     "iopub.status.busy": "2022-03-12T06:55:56.445374Z",
     "iopub.status.idle": "2022-03-12T06:55:56.453532Z",
     "shell.execute_reply": "2022-03-12T06:55:56.452803Z",
     "shell.execute_reply.started": "2022-03-12T06:55:56.445598Z"
    }
   },
   "outputs": [],
   "source": [
    "def evaluate():\n",
    "    metric = load_metric(\"accuracy\")\n",
    "    model.eval()\n",
    "    for batch in eval_dataloader:\n",
    "        batch = {k: v.to(device) for k, v in batch.items()}\n",
    "        with torch.no_grad():\n",
    "            outputs = model(**batch)\n",
    "\n",
    "        logits = outputs.logits\n",
    "        predictions = torch.argmax(logits, dim=-1)\n",
    "        metric.add_batch(predictions=predictions, references=batch[\"labels\"])\n",
    "\n",
    "    return metric.compute()"
   ]
  },
  {
   "cell_type": "code",
   "execution_count": null,
   "metadata": {
    "execution": {
     "iopub.execute_input": "2022-03-12T06:55:58.213573Z",
     "iopub.status.busy": "2022-03-12T06:55:58.213088Z",
     "iopub.status.idle": "2022-03-12T08:00:11.430297Z",
     "shell.execute_reply": "2022-03-12T08:00:11.42953Z",
     "shell.execute_reply.started": "2022-03-12T06:55:58.213533Z"
    }
   },
   "outputs": [],
   "source": [
    "from tqdm.auto import tqdm\n",
    "\n",
    "progress_bar = tqdm(range(num_training_steps))\n",
    "\n",
    "model.train()\n",
    "for epoch in range(num_epochs):\n",
    "    for i, batch in enumerate(train_dataloader):\n",
    "        batch = {k: v.to(device) for k, v in batch.items()}\n",
    "        outputs = model(**batch)\n",
    "        loss = outputs.loss\n",
    "        loss.backward()\n",
    "\n",
    "        optimizer.step()\n",
    "        lr_scheduler.step()\n",
    "        optimizer.zero_grad()\n",
    "        if i % 1000 == 0:\n",
    "            print(f\"iteration: {i} | loss: {loss.item()}\")\n",
    "        progress_bar.update(1)\n",
    "    print(evaluate())\n"
   ]
  },
  {
   "cell_type": "code",
   "execution_count": null,
   "metadata": {
    "execution": {
     "iopub.execute_input": "2022-03-13T02:08:27.126207Z",
     "iopub.status.busy": "2022-03-13T02:08:27.125729Z",
     "iopub.status.idle": "2022-03-13T02:08:27.132362Z",
     "shell.execute_reply": "2022-03-13T02:08:27.131704Z",
     "shell.execute_reply.started": "2022-03-13T02:08:27.126168Z"
    }
   },
   "outputs": [],
   "source": [
    "loss = [0.7825751304626465,0.34935635328292847,0.4183889925479889,0.5266145467758179,0.3440805971622467,0.6664698123931885,\n",
    "0.9303305745124817,0.5289250612258911,0.33006468415260315,0.5056890249252319,0.4399178624153137,0.1170702800154686,\n",
    "0.09948326647281647,0.10625694692134857,0.2394929975271225,0.08324136584997177,0.3338935077190399,0.2283564805984497,\n",
    "0.6068935990333557,0.13533364236354828,0.23950281739234924,0.057980410754680634,0.3307877779006958,0.01022527925670147,\n",
    "0.006380629725754261,0.01793970912694931,0.013707959093153477,0.14926961064338684,0.12756234407424927]"
   ]
  },
  {
   "cell_type": "code",
   "execution_count": null,
   "metadata": {
    "execution": {
     "iopub.execute_input": "2022-03-13T02:07:32.993152Z",
     "iopub.status.busy": "2022-03-13T02:07:32.992458Z",
     "iopub.status.idle": "2022-03-13T02:07:32.999512Z",
     "shell.execute_reply": "2022-03-13T02:07:32.998606Z",
     "shell.execute_reply.started": "2022-03-13T02:07:32.993114Z"
    }
   },
   "outputs": [],
   "source": [
    "import matplotlib.pyplot as plt"
   ]
  },
  {
   "cell_type": "code",
   "execution_count": null,
   "metadata": {
    "execution": {
     "iopub.execute_input": "2022-03-13T02:08:50.401932Z",
     "iopub.status.busy": "2022-03-13T02:08:50.401449Z",
     "iopub.status.idle": "2022-03-13T02:08:50.579034Z",
     "shell.execute_reply": "2022-03-13T02:08:50.578157Z",
     "shell.execute_reply.started": "2022-03-13T02:08:50.401894Z"
    }
   },
   "outputs": [],
   "source": [
    "plt.plot(loss)\n",
    "plt.ylabel('loss')\n",
    "plt.xlabel('iteration')"
   ]
  },
  {
   "cell_type": "markdown",
   "metadata": {},
   "source": [
    "## Save Model"
   ]
  },
  {
   "cell_type": "code",
   "execution_count": null,
   "metadata": {
    "execution": {
     "iopub.execute_input": "2022-03-12T08:01:24.425753Z",
     "iopub.status.busy": "2022-03-12T08:01:24.425496Z",
     "iopub.status.idle": "2022-03-12T08:01:24.429775Z",
     "shell.execute_reply": "2022-03-12T08:01:24.428859Z",
     "shell.execute_reply.started": "2022-03-12T08:01:24.425723Z"
    }
   },
   "outputs": [],
   "source": [
    "import os\n",
    "os.makedirs(\"sentiment_bert_2\")"
   ]
  },
  {
   "cell_type": "code",
   "execution_count": null,
   "metadata": {
    "execution": {
     "iopub.execute_input": "2022-03-12T08:01:30.091463Z",
     "iopub.status.busy": "2022-03-12T08:01:30.090931Z",
     "iopub.status.idle": "2022-03-12T08:01:30.732491Z",
     "shell.execute_reply": "2022-03-12T08:01:30.731648Z",
     "shell.execute_reply.started": "2022-03-12T08:01:30.091423Z"
    }
   },
   "outputs": [],
   "source": [
    "model.save_pretrained(\"sentiment_bert_2\")"
   ]
  },
  {
   "cell_type": "markdown",
   "metadata": {},
   "source": [
    "## Load Saved Model"
   ]
  },
  {
   "cell_type": "code",
   "execution_count": null,
   "metadata": {
    "execution": {
     "iopub.execute_input": "2022-03-13T01:03:59.553289Z",
     "iopub.status.busy": "2022-03-13T01:03:59.552845Z",
     "iopub.status.idle": "2022-03-13T01:03:59.733658Z",
     "shell.execute_reply": "2022-03-13T01:03:59.732739Z",
     "shell.execute_reply.started": "2022-03-13T01:03:59.553247Z"
    }
   },
   "outputs": [],
   "source": [
    "test_df = df.sample(10000, random_state=46)\n",
    "test_df = test_df.drop(columns=['id', 'date', 'query', 'username'])\n",
    "test_df['labels'] = test_df['labels'].map({0:0, 4:1})\n",
    "# test_df['tweet'] = test_df.tweet.apply(lambda x: re.sub('@[^\\s]+','',x))\n",
    "test_df.head()"
   ]
  },
  {
   "cell_type": "code",
   "execution_count": null,
   "metadata": {
    "execution": {
     "iopub.execute_input": "2022-03-13T01:04:01.354247Z",
     "iopub.status.busy": "2022-03-13T01:04:01.353574Z",
     "iopub.status.idle": "2022-03-13T01:04:01.358964Z",
     "shell.execute_reply": "2022-03-13T01:04:01.35821Z",
     "shell.execute_reply.started": "2022-03-13T01:04:01.354207Z"
    }
   },
   "outputs": [],
   "source": [
    "test_labels = list(test_df.labels.values)"
   ]
  },
  {
   "cell_type": "code",
   "execution_count": null,
   "metadata": {
    "execution": {
     "iopub.execute_input": "2022-03-13T01:04:02.364845Z",
     "iopub.status.busy": "2022-03-13T01:04:02.364395Z",
     "iopub.status.idle": "2022-03-13T01:04:06.761207Z",
     "shell.execute_reply": "2022-03-13T01:04:06.760456Z",
     "shell.execute_reply.started": "2022-03-13T01:04:02.364806Z"
    }
   },
   "outputs": [],
   "source": [
    "test_encodings = tokenizer(list(test_df.tweet.values), truncation=True, padding=True)"
   ]
  },
  {
   "cell_type": "code",
   "execution_count": null,
   "metadata": {
    "execution": {
     "iopub.execute_input": "2022-03-13T00:55:13.696588Z",
     "iopub.status.busy": "2022-03-13T00:55:13.695959Z",
     "iopub.status.idle": "2022-03-13T00:55:14.38386Z",
     "shell.execute_reply": "2022-03-13T00:55:14.38307Z",
     "shell.execute_reply.started": "2022-03-13T00:55:13.696551Z"
    }
   },
   "outputs": [],
   "source": [
    "ls ../input/sentiment-bert"
   ]
  },
  {
   "cell_type": "code",
   "execution_count": null,
   "metadata": {
    "collapsed": true,
    "execution": {
     "iopub.execute_input": "2022-03-13T00:59:29.625215Z",
     "iopub.status.busy": "2022-03-13T00:59:29.624428Z",
     "iopub.status.idle": "2022-03-13T00:59:31.04228Z",
     "shell.execute_reply": "2022-03-13T00:59:31.041581Z",
     "shell.execute_reply.started": "2022-03-13T00:59:29.625168Z"
    },
    "jupyter": {
     "outputs_hidden": true
    }
   },
   "outputs": [],
   "source": [
    "device = torch.device(\"cuda\") if torch.cuda.is_available() else torch.device(\"cpu\")\n",
    "\n",
    "test_model = AutoModelForSequenceClassification.from_pretrained(\"../input/sentiment-bert\", num_labels=2)\n",
    "test_model.to(device)"
   ]
  },
  {
   "cell_type": "code",
   "execution_count": null,
   "metadata": {
    "execution": {
     "iopub.execute_input": "2022-03-13T01:04:09.527866Z",
     "iopub.status.busy": "2022-03-13T01:04:09.527111Z",
     "iopub.status.idle": "2022-03-13T01:04:09.531634Z",
     "shell.execute_reply": "2022-03-13T01:04:09.530959Z",
     "shell.execute_reply.started": "2022-03-13T01:04:09.527825Z"
    }
   },
   "outputs": [],
   "source": [
    "test_dataloader = DataLoader(SentimentDataset(test_encodings, test_labels), shuffle=False, batch_size=8)"
   ]
  },
  {
   "cell_type": "markdown",
   "metadata": {},
   "source": [
    "with data cleaning : {'accuracy': 0.8381} <br>\n",
    "without data cleaning : {'accuracy': 0.8331}"
   ]
  },
  {
   "cell_type": "code",
   "execution_count": null,
   "metadata": {
    "execution": {
     "iopub.execute_input": "2022-03-13T01:04:35.961342Z",
     "iopub.status.busy": "2022-03-13T01:04:35.961086Z",
     "iopub.status.idle": "2022-03-13T01:05:20.01667Z",
     "shell.execute_reply": "2022-03-13T01:05:20.015978Z",
     "shell.execute_reply.started": "2022-03-13T01:04:35.961312Z"
    }
   },
   "outputs": [],
   "source": [
    "metric = load_metric(\"accuracy\")\n",
    "test_model.eval()\n",
    "for batch in test_dataloader:\n",
    "    batch = {k: v.to(device) for k, v in batch.items()}\n",
    "    with torch.no_grad():\n",
    "        outputs = test_model(**batch)\n",
    "\n",
    "    logits = outputs.logits\n",
    "    predictions = torch.argmax(logits, dim=-1)\n",
    "    metric.add_batch(predictions=predictions, references=batch[\"labels\"])\n",
    "\n",
    "metric.compute()"
   ]
  },
  {
   "cell_type": "code",
   "execution_count": null,
   "metadata": {
    "execution": {
     "iopub.execute_input": "2022-03-13T01:02:07.778433Z",
     "iopub.status.busy": "2022-03-13T01:02:07.77787Z",
     "iopub.status.idle": "2022-03-13T01:02:07.793048Z",
     "shell.execute_reply": "2022-03-13T01:02:07.792383Z",
     "shell.execute_reply.started": "2022-03-13T01:02:07.778383Z"
    }
   },
   "outputs": [],
   "source": [
    "test_df.groupby('labels').count()"
   ]
  },
  {
   "cell_type": "code",
   "execution_count": null,
   "metadata": {},
   "outputs": [],
   "source": []
  }
 ],
 "metadata": {
  "kernelspec": {
   "display_name": "Python 3 (ipykernel)",
   "language": "python",
   "name": "python3"
  },
  "language_info": {
   "codemirror_mode": {
    "name": "ipython",
    "version": 3
   },
   "file_extension": ".py",
   "mimetype": "text/x-python",
   "name": "python",
   "nbconvert_exporter": "python",
   "pygments_lexer": "ipython3",
   "version": "3.8.11"
  }
 },
 "nbformat": 4,
 "nbformat_minor": 4
}
